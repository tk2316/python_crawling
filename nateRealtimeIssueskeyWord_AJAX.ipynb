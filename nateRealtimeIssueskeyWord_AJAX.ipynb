{
 "cells": [
  {
   "cell_type": "code",
   "execution_count": 1,
   "id": "96d569e9",
   "metadata": {},
   "outputs": [],
   "source": [
    "import warnings\n",
    "warnings.filterwarnings(action='ignore')\n",
    "import requests\n",
    "#from bs4 import BeautifulSoup #html 문서를 피싱할 때 사용하는 AJAX 방식으로 넘어오는 데이터를 크롤링 할 때 사용하지 않는다\n",
    "import json #json 형태의 문자열을 파이썬에서 처리하기 위해 loads() 메소드로 딕셔너리나 리스트 형태로 변환한다."
   ]
  },
  {
   "cell_type": "code",
   "execution_count": 2,
   "id": "6696dedd",
   "metadata": {},
   "outputs": [
    {
     "data": {
      "image/png": "[encoded data removed]",
      "text/plain": [
       "<IPython.core.display.Image object>"
      ]
     },
     "execution_count": 2,
     "metadata": {},
     "output_type": "execute_result"
    }
   ],
   "source": [
    "from IPython.display import Image\n",
    "Image('./NateAjax2.png')"
   ]
  },
  {
   "cell_type": "code",
   "execution_count": 3,
   "id": "c4ca1668",
   "metadata": {},
   "outputs": [
    {
     "name": "stdout",
     "output_type": "stream",
     "text": [
      "<Response [200]>\n"
     ]
    }
   ],
   "source": [
    "#실시간 검색어가 웹 페이지에 전부 혹은 일부가 포함되어 있지 않고 ajax를 이용해서  받아오는 방식이 사용된다\n",
    "#Request Method가 GET 방식이므로 requests 모듈에 get()메소드를 사용해서 실시간 검색어를 받아온다\n",
    "targetSite ='https://www.nate.com/js/data/jsonLiveKeywordDataV1.js?v=202109081725'\n",
    "request = requests.get(targetSite)\n",
    "print(request)\n",
    "#파이썬은 한글 encoding이 유니코드(UTF-8)로 되어있기 떄문에 encoding 방식을 'euc-kr'을 사용하는 사이트를 크로링 할 때\n",
    "#한글이 깨져 보이는 현상이 발생될 수 있다\n",
    "#한글 encoding 문제로 한글이 깨져서 보이면 아래와 같이 encoding 방식을 변경하면 된다.\n",
    "request.encoding = 'euc-kr'"
   ]
  },
  {
   "cell_type": "code",
   "execution_count": 4,
   "id": "98838232",
   "metadata": {},
   "outputs": [
    {
     "name": "stdout",
     "output_type": "stream",
     "text": [
      "<class 'str'>\n",
      "[[\"1\",  \"정애연\",  \"s\",  \"0\",  \"정애연\"], [\"2\",  \"국민지원금 신청\",  \"s\",  \"0\",  \"국민지원금 신청\"], [\"3\",  \"서울 평균 서울은\",  \"s\",  \"0\",  \"서울 평균 서울은\"], [\"4\",  \"이다인\",  \"s\",  \"0\",  \"이다인\"], [\"5\",  \"위드 코로나는 마스크와\",  \"+\",  \"1\",  \"위드 코로나는 마스크와\"], [\"6\",  \"투약 휘성 구형\",  \"+\",  \"1\",  \"투약 휘성 구형\"], [\"7\",  \"이낙연\",  \"-\",  \"2\",  \"이낙연\"], [\"8\",  \"곳간 비어 간다 홍남기\",  \"s\",  \"0\",  \"곳간 비어 간다 홍남기\"], [\"9\",  \"국방부 청해부대 집단감염\",  \"s\",  \"0\",  \"국방부 청해부대 집단감염\"], [\"10\",  \"정우성 아프가니스탄 기부\",  \"s\",  \"0\",  \"정우성 아프가니스탄 기부\"]]\n"
     ]
    }
   ],
   "source": [
    "issues = request.text\n",
    "print(type(issues))\n",
    "print(issues)"
   ]
  },
  {
   "cell_type": "code",
   "execution_count": 5,
   "id": "ae28f7c4",
   "metadata": {},
   "outputs": [
    {
     "name": "stdout",
     "output_type": "stream",
     "text": [
      "<class 'list'>\n",
      "[['1', '정애연', 's', '0', '정애연'], ['2', '국민지원금 신청', 's', '0', '국민지원금 신청'], ['3', '서울 평균 서울은', 's', '0', '서울 평균 서울은'], ['4', '이다인', 's', '0', '이다인'], ['5', '위드 코로나는 마스크와', '+', '1', '위드 코로나는 마스크와'], ['6', '투약 휘성 구형', '+', '1', '투약 휘성 구형'], ['7', '이낙연', '-', '2', '이낙연'], ['8', '곳간 비어 간다 홍남기', 's', '0', '곳간 비어 간다 홍남기'], ['9', '국방부 청해부대 집단감염', 's', '0', '국방부 청해부대 집단감염'], ['10', '정우성 아프가니스탄 기부', 's', '0', '정우성 아프가니스탄 기부']]\n"
     ]
    }
   ],
   "source": [
    "#json 문자열 형태로 얻어온 실시간 이슈 키워드는 json 모듈의 loads() 메소드를 사용해서 파이썬에서 처리할 수 있는 데이터\n",
    "#타입 (리스트나 딕셔너리)로 변화해서 사용한다.\n",
    "#loads() 메소드는 json 타입의 문자열이 {}를 포함하는 형태면 딕셔너리로 []만 포함하는 형태면 리스트로 자동 변환한다\n",
    "ranks = json.loads(issues)\n",
    "print(type(ranks)) #converted to listed format\n",
    "print(ranks)"
   ]
  },
  {
   "cell_type": "code",
   "execution_count": 6,
   "id": "9728fa91",
   "metadata": {},
   "outputs": [
    {
     "name": "stdout",
     "output_type": "stream",
     "text": [
      "<class 'list'>\n",
      "[['1', '정애연', 's', '0', '정애연'], ['2', '국민지원금 신청', 's', '0', '국민지원금 신청'], ['3', '서울 평균 서울은', 's', '0', '서울 평균 서울은'], ['4', '이다인', 's', '0', '이다인'], ['5', '위드 코로나는 마스크와', '+', '1', '위드 코로나는 마스크와'], ['6', '투약 휘성 구형', '+', '1', '투약 휘성 구형'], ['7', '이낙연', '-', '2', '이낙연'], ['8', '곳간 비어 간다 홍남기', 's', '0', '곳간 비어 간다 홍남기'], ['9', '국방부 청해부대 집단감염', 's', '0', '국방부 청해부대 집단감염'], ['10', '정우성 아프가니스탄 기부', 's', '0', '정우성 아프가니스탄 기부']]\n"
     ]
    }
   ],
   "source": [
    "#requests 모듈의 json() 메소드를 실행하면 json 문자열 형태로 얻어온 실시간 이슈 키워드를 파이썬에서 처리하 수 있는 \n",
    "#데이터 타입으로 변환할 수 있다.\n",
    "ranks = request.json()\n",
    "print(type(ranks)) #converted to listed format\n",
    "print(ranks)"
   ]
  },
  {
   "cell_type": "code",
   "execution_count": 7,
   "id": "9cd76be1",
   "metadata": {},
   "outputs": [
    {
     "name": "stdout",
     "output_type": "stream",
     "text": [
      "['1', '정애연', 's', '0', '정애연']\n",
      "['2', '국민지원금 신청', 's', '0', '국민지원금 신청']\n",
      "['3', '서울 평균 서울은', 's', '0', '서울 평균 서울은']\n",
      "['4', '이다인', 's', '0', '이다인']\n",
      "['5', '위드 코로나는 마스크와', '+', '1', '위드 코로나는 마스크와']\n",
      "['6', '투약 휘성 구형', '+', '1', '투약 휘성 구형']\n",
      "['7', '이낙연', '-', '2', '이낙연']\n",
      "['8', '곳간 비어 간다 홍남기', 's', '0', '곳간 비어 간다 홍남기']\n",
      "['9', '국방부 청해부대 집단감염', 's', '0', '국방부 청해부대 집단감염']\n",
      "['10', '정우성 아프가니스탄 기부', 's', '0', '정우성 아프가니스탄 기부']\n"
     ]
    }
   ],
   "source": [
    "for rank in ranks:\n",
    "    print(rank)"
   ]
  },
  {
   "cell_type": "code",
   "execution_count": 14,
   "id": "97d32378",
   "metadata": {},
   "outputs": [
    {
     "name": "stdout",
     "output_type": "stream",
     "text": [
      " 1위: 정애연[-]\n",
      " 2위: 국민지원금 신청[-]\n",
      " 3위: 서울 평균 서울은[-]\n",
      " 4위: 이다인[-]\n",
      " 5위: 위드 코로나는 마스크와[↑1]\n",
      " 6위: 투약 휘성 구형[↑1]\n",
      " 7위: 이낙연[↓2]\n",
      " 8위: 곳간 비어 간다 홍남기[-]\n",
      " 9위: 국방부 청해부대 집단감염[-]\n",
      "10위: 정우성 아프가니스탄 기부[-]\n"
     ]
    }
   ],
   "source": [
    "for rank in ranks:\n",
    "    print('{0:>2s}위: {1}'.format(rank[0], rank[1]), end ='')\n",
    "    if rank[2] == '+':\n",
    "        print('[{}{}]'.format('↑', rank[3]))\n",
    "    elif rank[2] == '-':\n",
    "        print('[{}{}]'.format('↓', rank[3]))\n",
    "    elif rank[2] == 's':\n",
    "        pri\\nt('[-]')\n",
    "    else:\n",
    "        print('[new]')"
   ]
  },
  {
   "cell_type": "code",
   "execution_count": null,
   "id": "3c08ed46",
   "metadata": {},
   "outputs": [],
   "source": []
  }
 ],
 "metadata": {
  "kernelspec": {
   "display_name": "Python 3 (ipykernel)",
   "language": "python",
   "name": "python3"
  },
  "language_info": {
   "codemirror_mode": {
    "name": "ipython",
    "version": 3
   },
   "file_extension": ".py",
   "mimetype": "text/x-python",
   "name": "python",
   "nbconvert_exporter": "python",
   "pygments_lexer": "ipython3",
   "version": "3.9.6"
  }
 },
 "nbformat": 4,
 "nbformat_minor": 5
}
